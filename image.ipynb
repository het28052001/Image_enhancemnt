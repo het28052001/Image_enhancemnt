{
 "cells": [
  {
   "cell_type": "code",
   "execution_count": null,
   "metadata": {},
   "outputs": [],
   "source": [
    "import cv2\n",
    "from google.colab.patches import cv2_imshow\n",
    "import numpy as np\n",
    "\n",
    "# Load the image\n",
    "image = cv2.imread('/content/P1029336_T_CS_AWB.png')\n",
    "\n",
    "if image is None:\n",
    "    print(\"Error: Unable to load the image.\")\n",
    "else:\n",
    "    # Define a brightness factor (adjust this as needed)\n",
    "    brightness_factor = 1.5  # Increase this value to brighten the image\n",
    "\n",
    "    # Multiply each pixel value by the brightness factor\n",
    "    brightened_image = cv2.convertScaleAbs(image, alpha=brightness_factor, beta=0)\n",
    "\n",
    "    if not cv2.imwrite('enhanced_image.jpg', brightened_image):\n",
    "        print(\"Error: Unable to save the enhanced image.\")\n",
    "    else:\n",
    "        print(\"Enhanced image saved successfully.\")\n",
    "\n",
    "    # Display the original and enhanced images\n",
    "    cv2_imshow(brightened_image)\n"
   ]
  }
 ],
 "metadata": {
  "language_info": {
   "name": "python"
  },
  "orig_nbformat": 4
 },
 "nbformat": 4,
 "nbformat_minor": 2
}
